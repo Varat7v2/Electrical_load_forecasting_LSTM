{
 "cells": [
  {
   "cell_type": "markdown",
   "metadata": {},
   "source": [
    "### Deep Learning for hourly load forecasting of the building in Thane, Mumbai"
   ]
  },
  {
   "cell_type": "code",
   "execution_count": 1,
   "metadata": {},
   "outputs": [
    {
     "name": "stderr",
     "output_type": "stream",
     "text": [
      "/home/varat/anaconda3/lib/python3.6/site-packages/h5py/__init__.py:36: FutureWarning: Conversion of the second argument of issubdtype from `float` to `np.floating` is deprecated. In future, it will be treated as `np.float64 == np.dtype(float).type`.\n",
      "  from ._conv import register_converters as _register_converters\n",
      "Using TensorFlow backend.\n"
     ]
    }
   ],
   "source": [
    "from __future__ import print_function\n",
    "import pandas as pd\n",
    "import numpy as np\n",
    "import matplotlib.pyplot as plt\n",
    "from keras.layers.core import Dense, Activation, Dropout\n",
    "from keras.layers.recurrent import LSTM\n",
    "from keras.models import Sequential"
   ]
  },
  {
   "cell_type": "code",
   "execution_count": 2,
   "metadata": {},
   "outputs": [
    {
     "name": "stdout",
     "output_type": "stream",
     "text": [
      "Data shape: (4877, 23)\n"
     ]
    },
    {
     "data": {
      "text/plain": [
       "array([['1/1/2016', 1311693.43],\n",
       "       ['1/1/2016 1:00', 1240583.19],\n",
       "       ['1/1/2016 2:00', 1185502.49],\n",
       "       ...,\n",
       "       ['7/31/2016 21:00', 1427712.44],\n",
       "       ['7/31/2016 22:00', 1315301.39],\n",
       "       ['7/31/2016 23:00', 1204251.82]], dtype=object)"
      ]
     },
     "execution_count": 2,
     "metadata": {},
     "output_type": "execute_result"
    }
   ],
   "source": [
    "# Load raw data\n",
    "df = pd.read_csv('hourly_load_mumbai.csv', header=None)\n",
    "# numpy array\n",
    "df_array = df.values\n",
    "# Daily load\n",
    "daily_load = [df_array[i,:] for i in range(0, len(df)) if i%24 == 0] # list_daily_load changed to daily_load\n",
    "# hourly load (23 hours for each day)\n",
    "hourly_load = [df_array[i,1]/100000 for i in range(0, len(df)) if i%24 != 0] # list_hourly_load changead as above\n",
    "# the length of the sequence for predicting the future value\n",
    "seq_len = 23\n",
    "load = []   # matrix changed simply to load\n",
    "\n",
    "for i in range(len(hourly_load) - seq_len + 1):\n",
    "        load.append(hourly_load[i:i + seq_len])\n",
    "final_load = load     # matrix_load changed to final_load\n",
    "\n",
    "# Shift all data by mean\n",
    "final_load = np.array(final_load)\n",
    "load_mean = final_load.mean()  # Shifted_value changed to load_mean\n",
    "final_load -= load_mean       # This is after removing all the means from the original data\n",
    "print('Data shape:', final_load.shape)\n",
    "df_array"
   ]
  },
  {
   "cell_type": "markdown",
   "metadata": {},
   "source": [
    "##### Split dataset: 90% for training and remaining 10% for testing"
   ]
  },
  {
   "cell_type": "code",
   "execution_count": 3,
   "metadata": {},
   "outputs": [],
   "source": [
    "train_row = int(round(0.75 * final_load.shape[0]))\n",
    "train_set = final_load[:train_row,:]\n",
    "\n",
    "# Shuffle the training set (but do not shuffle the rest set)\n",
    "np.random.shuffle(train_set)\n",
    "\n",
    "# The training Set\n",
    "X_train = train_set[:,:-1]\n",
    "# The last column is the true value to compute the mean-squared-error loss\n",
    "Y_train = train_set[:,-1]\n",
    "\n",
    "# The test set\n",
    "X_test = final_load[train_row:, :-1]\n",
    "Y_test = final_load[train_row:, -1]"
   ]
  },
  {
   "cell_type": "code",
   "execution_count": 4,
   "metadata": {},
   "outputs": [],
   "source": [
    "# Input to LSTM layer needs to have the shape of (number of samples, dimension of each element)\n",
    "# Arranging the dimensions of inputs in order to feed into LSTM networks\n",
    "\n",
    "X_train = np.reshape(X_train, (X_train.shape[0], X_train.shape[1], 1))\n",
    "X_test = np.reshape(X_test, (X_test.shape[0], X_test.shape[1], 1))"
   ]
  },
  {
   "cell_type": "markdown",
   "metadata": {},
   "source": [
    "### Build the model"
   ]
  },
  {
   "cell_type": "code",
   "execution_count": 5,
   "metadata": {},
   "outputs": [
    {
     "name": "stderr",
     "output_type": "stream",
     "text": [
      "/home/varat/anaconda3/lib/python3.6/site-packages/ipykernel_launcher.py:5: UserWarning: The `input_dim` and `input_length` arguments in recurrent layers are deprecated. Use `input_shape` instead.\n",
      "  \"\"\"\n",
      "/home/varat/anaconda3/lib/python3.6/site-packages/ipykernel_launcher.py:5: UserWarning: Update your `LSTM` call to the Keras 2 API: `LSTM(return_sequences=True, input_shape=(None, 1), units=50)`\n",
      "  \"\"\"\n",
      "/home/varat/anaconda3/lib/python3.6/site-packages/ipykernel_launcher.py:9: UserWarning: Update your `LSTM` call to the Keras 2 API: `LSTM(return_sequences=False, units=100)`\n",
      "  if __name__ == '__main__':\n",
      "/home/varat/anaconda3/lib/python3.6/site-packages/ipykernel_launcher.py:13: UserWarning: Update your `Dense` call to the Keras 2 API: `Dense(activation=\"linear\", units=1)`\n",
      "  del sys.path[0]\n"
     ]
    }
   ],
   "source": [
    "# Model Definition\n",
    "model = Sequential()\n",
    "\n",
    "# Layer 1: LSTM\n",
    "model.add(LSTM(input_dim =1, output_dim = 50, return_sequences=True)) #activation by default=tanh\n",
    "model.add(Dropout(0.2))\n",
    "\n",
    "# Layer 2: LSTM\n",
    "model.add(LSTM(output_dim=100, return_sequences=False))\n",
    "model.add(Dropout(0.2))\n",
    "\n",
    "# Layer 3: Dense\n",
    "model.add(Dense(output_dim=1, activation='linear'))\n",
    "\n",
    "#Compile the model\n",
    "model.compile(loss='mse', optimizer='adam' )  # optimizer='rmsprop'"
   ]
  },
  {
   "cell_type": "markdown",
   "metadata": {},
   "source": [
    "### Train the model"
   ]
  },
  {
   "cell_type": "code",
   "execution_count": 6,
   "metadata": {
    "scrolled": true
   },
   "outputs": [
    {
     "name": "stderr",
     "output_type": "stream",
     "text": [
      "/home/varat/anaconda3/lib/python3.6/site-packages/keras/models.py:942: UserWarning: The `nb_epoch` argument in `fit` has been renamed `epochs`.\n",
      "  warnings.warn('The `nb_epoch` argument in `fit` '\n"
     ]
    },
    {
     "name": "stdout",
     "output_type": "stream",
     "text": [
      "Train on 3475 samples, validate on 183 samples\n",
      "Epoch 1/50\n",
      "3475/3475 [==============================] - 4s 1ms/step - loss: 7.9799 - val_loss: 5.8805\n",
      "Epoch 2/50\n",
      "3475/3475 [==============================] - 2s 499us/step - loss: 6.1906 - val_loss: 5.4110\n",
      "Epoch 3/50\n",
      "3475/3475 [==============================] - 2s 513us/step - loss: 5.5766 - val_loss: 4.5324\n",
      "Epoch 4/50\n",
      "3475/3475 [==============================] - 2s 541us/step - loss: 4.7423 - val_loss: 3.8810\n",
      "Epoch 5/50\n",
      "3475/3475 [==============================] - 2s 537us/step - loss: 3.8201 - val_loss: 2.8953\n",
      "Epoch 6/50\n",
      "3475/3475 [==============================] - 2s 547us/step - loss: 2.7819 - val_loss: 2.1540\n",
      "Epoch 7/50\n",
      "3475/3475 [==============================] - 2s 617us/step - loss: 2.2321 - val_loss: 1.7900\n",
      "Epoch 8/50\n",
      "3475/3475 [==============================] - 2s 593us/step - loss: 1.8370 - val_loss: 1.4028\n",
      "Epoch 9/50\n",
      "3475/3475 [==============================] - 2s 547us/step - loss: 1.5184 - val_loss: 1.1201\n",
      "Epoch 10/50\n",
      "3475/3475 [==============================] - 2s 543us/step - loss: 1.2401 - val_loss: 0.9044\n",
      "Epoch 11/50\n",
      "3475/3475 [==============================] - 2s 574us/step - loss: 1.0968 - val_loss: 0.7677\n",
      "Epoch 12/50\n",
      "3475/3475 [==============================] - 2s 534us/step - loss: 0.9798 - val_loss: 0.7565\n",
      "Epoch 13/50\n",
      "3475/3475 [==============================] - 2s 524us/step - loss: 0.8793 - val_loss: 0.6179\n",
      "Epoch 14/50\n",
      "3475/3475 [==============================] - 2s 526us/step - loss: 0.7600 - val_loss: 0.5266\n",
      "Epoch 15/50\n",
      "3475/3475 [==============================] - 2s 545us/step - loss: 0.6721 - val_loss: 0.4849\n",
      "Epoch 16/50\n",
      "3475/3475 [==============================] - 2s 582us/step - loss: 0.6553 - val_loss: 0.4329\n",
      "Epoch 17/50\n",
      "3475/3475 [==============================] - 2s 524us/step - loss: 0.6259 - val_loss: 0.3898\n",
      "Epoch 18/50\n",
      "3475/3475 [==============================] - 2s 518us/step - loss: 0.5994 - val_loss: 0.3517\n",
      "Epoch 19/50\n",
      "3475/3475 [==============================] - 2s 528us/step - loss: 0.5446 - val_loss: 0.3351\n",
      "Epoch 20/50\n",
      "3475/3475 [==============================] - 2s 537us/step - loss: 0.5111 - val_loss: 0.3105\n",
      "Epoch 21/50\n",
      "3475/3475 [==============================] - 2s 630us/step - loss: 0.4906 - val_loss: 0.2622\n",
      "Epoch 22/50\n",
      "3475/3475 [==============================] - 2s 511us/step - loss: 0.4744 - val_loss: 0.2515\n",
      "Epoch 23/50\n",
      "3475/3475 [==============================] - 2s 509us/step - loss: 0.4599 - val_loss: 0.2191\n",
      "Epoch 24/50\n",
      "3475/3475 [==============================] - 2s 605us/step - loss: 0.4344 - val_loss: 0.2253\n",
      "Epoch 25/50\n",
      "3475/3475 [==============================] - 2s 509us/step - loss: 0.4361 - val_loss: 0.2331\n",
      "Epoch 26/50\n",
      "3475/3475 [==============================] - 2s 519us/step - loss: 0.4279 - val_loss: 0.1931\n",
      "Epoch 27/50\n",
      "3475/3475 [==============================] - 2s 560us/step - loss: 0.4154 - val_loss: 0.1883\n",
      "Epoch 28/50\n",
      "3475/3475 [==============================] - 2s 517us/step - loss: 0.3788 - val_loss: 0.1708\n",
      "Epoch 29/50\n",
      "3475/3475 [==============================] - 2s 511us/step - loss: 0.3659 - val_loss: 0.1766\n",
      "Epoch 30/50\n",
      "3475/3475 [==============================] - 2s 505us/step - loss: 0.3776 - val_loss: 0.1627\n",
      "Epoch 31/50\n",
      "3475/3475 [==============================] - 2s 497us/step - loss: 0.3507 - val_loss: 0.1521\n",
      "Epoch 32/50\n",
      "3475/3475 [==============================] - 2s 537us/step - loss: 0.3452 - val_loss: 0.1624\n",
      "Epoch 33/50\n",
      "3475/3475 [==============================] - 2s 598us/step - loss: 0.3499 - val_loss: 0.1471\n",
      "Epoch 34/50\n",
      "3475/3475 [==============================] - 2s 494us/step - loss: 0.3255 - val_loss: 0.1404\n",
      "Epoch 35/50\n",
      "3475/3475 [==============================] - 2s 503us/step - loss: 0.3354 - val_loss: 0.1437\n",
      "Epoch 36/50\n",
      "3475/3475 [==============================] - 2s 516us/step - loss: 0.3085 - val_loss: 0.1416\n",
      "Epoch 37/50\n",
      "3475/3475 [==============================] - 2s 531us/step - loss: 0.3201 - val_loss: 0.1368\n",
      "Epoch 38/50\n",
      "3475/3475 [==============================] - 2s 527us/step - loss: 0.3129 - val_loss: 0.1326\n",
      "Epoch 39/50\n",
      "3475/3475 [==============================] - 2s 528us/step - loss: 0.3058 - val_loss: 0.1346\n",
      "Epoch 40/50\n",
      "3475/3475 [==============================] - 2s 524us/step - loss: 0.2992 - val_loss: 0.1359\n",
      "Epoch 41/50\n",
      "3475/3475 [==============================] - 2s 589us/step - loss: 0.3047 - val_loss: 0.1289\n",
      "Epoch 42/50\n",
      "3475/3475 [==============================] - 2s 582us/step - loss: 0.2967 - val_loss: 0.1348\n",
      "Epoch 43/50\n",
      "3475/3475 [==============================] - 2s 512us/step - loss: 0.2804 - val_loss: 0.1284\n",
      "Epoch 44/50\n",
      "3475/3475 [==============================] - 2s 509us/step - loss: 0.2869 - val_loss: 0.1312\n",
      "Epoch 45/50\n",
      "3475/3475 [==============================] - 2s 511us/step - loss: 0.2891 - val_loss: 0.1270\n",
      "Epoch 46/50\n",
      "3475/3475 [==============================] - 2s 515us/step - loss: 0.2954 - val_loss: 0.1228\n",
      "Epoch 47/50\n",
      "3475/3475 [==============================] - 2s 533us/step - loss: 0.2790 - val_loss: 0.1379\n",
      "Epoch 48/50\n",
      "3475/3475 [==============================] - 2s 559us/step - loss: 0.2850 - val_loss: 0.1256\n",
      "Epoch 49/50\n",
      "3475/3475 [==============================] - 2s 554us/step - loss: 0.2672 - val_loss: 0.1247\n",
      "Epoch 50/50\n",
      "3475/3475 [==============================] - 2s 601us/step - loss: 0.2737 - val_loss: 0.1303\n"
     ]
    },
    {
     "data": {
      "text/plain": [
       "<keras.callbacks.History at 0x7f4e77b92c50>"
      ]
     },
     "execution_count": 6,
     "metadata": {},
     "output_type": "execute_result"
    }
   ],
   "source": [
    "model.fit(X_train, Y_train, batch_size=512, nb_epoch=50, validation_split=0.05, verbose=1)"
   ]
  },
  {
   "cell_type": "markdown",
   "metadata": {},
   "source": [
    "### Evaluate the result"
   ]
  },
  {
   "cell_type": "code",
   "execution_count": 7,
   "metadata": {},
   "outputs": [
    {
     "name": "stdout",
     "output_type": "stream",
     "text": [
      "1219/1219 [==============================] - 0s 366us/step\n",
      "\n",
      " mean squared error(MSE) on the test data set is 0.422 over 1219 test samples.\n"
     ]
    }
   ],
   "source": [
    "mse_test = model.evaluate(X_test, Y_test, verbose=1)\n",
    "print('\\n mean squared error(MSE) on the test data set is %.3f over %d test samples.' %(mse_test, len(Y_test)))"
   ]
  },
  {
   "cell_type": "markdown",
   "metadata": {},
   "source": [
    "###  Get the predicted values"
   ]
  },
  {
   "cell_type": "code",
   "execution_count": 8,
   "metadata": {},
   "outputs": [],
   "source": [
    "predicted_values = model.predict(X_test)\n",
    "num_test_samples = len(predicted_values)\n",
    "predicted_values = np.reshape(predicted_values, (num_test_samples, 1))"
   ]
  },
  {
   "cell_type": "markdown",
   "metadata": {},
   "source": [
    "### Plot the results"
   ]
  },
  {
   "cell_type": "code",
   "execution_count": 9,
   "metadata": {},
   "outputs": [
    {
     "data": {
      "image/png": "[encoded data removed]",
      "text/plain": [
       "<matplotlib.figure.Figure at 0x7f4e54063588>"
      ]
     },
     "metadata": {},
     "output_type": "display_data"
    }
   ],
   "source": [
    "fig= plt.figure()\n",
    "plt.plot(Y_test + load_mean)\n",
    "plt.plot(predicted_values + load_mean)\n",
    "plt.xlabel('hours (hrs)')\n",
    "plt.ylabel('Electricity Load (*1e5)')\n",
    "plt.show()\n",
    "\n",
    "# Save the plot into a jpg file\n",
    "fig.savefig('Forecasted_Load_Results.jpg', bbox_inches='tight')\n",
    "\n",
    "# Save the results into txt file\n",
    "test_result = np.vstack((predicted_values + load_mean))\n",
    "np.savetxt('Forecasted_Load__Results.txt', test_result)"
   ]
  },
  {
   "cell_type": "code",
   "execution_count": null,
   "metadata": {},
   "outputs": [],
   "source": []
  },
  {
   "cell_type": "code",
   "execution_count": null,
   "metadata": {},
   "outputs": [],
   "source": []
  }
 ],
 "metadata": {
  "kernelspec": {
   "display_name": "Python 3",
   "language": "python",
   "name": "python3"
  },
  "language_info": {
   "codemirror_mode": {
    "name": "ipython",
    "version": 3
   },
   "file_extension": ".py",
   "mimetype": "text/x-python",
   "name": "python",
   "nbconvert_exporter": "python",
   "pygments_lexer": "ipython3",
   "version": "3.6.4"
  }
 },
 "nbformat": 4,
 "nbformat_minor": 2
}
